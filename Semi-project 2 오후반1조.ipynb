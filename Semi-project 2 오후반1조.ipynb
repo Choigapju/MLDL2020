{
 "cells": [
  {
   "cell_type": "code",
   "execution_count": 54,
   "metadata": {},
   "outputs": [],
   "source": [
    "# !pip install missingno\n",
    "# !pip install quilt\n",
    "# !quilt install ResidentMario/missingno_data\n",
    "\n",
    "# !pip install xgboost"
   ]
  },
  {
   "cell_type": "code",
   "execution_count": 55,
   "metadata": {
    "colab": {},
    "colab_type": "code",
    "id": "zKbTYjWpx03n"
   },
   "outputs": [],
   "source": [
    "import matplotlib.pyplot as plt\n",
    "# import missingno as msno\n",
    "import numpy as np\n",
    "import pandas as pd\n",
    "import quilt\n",
    "import warnings\n",
    "warnings.filterwarnings(\"ignore\")\n",
    "\n",
    "from sklearn.preprocessing import StandardScaler\n",
    "from sklearn.svm import SVC"
   ]
  },
  {
   "cell_type": "markdown",
   "metadata": {},
   "source": [
    "<br>\n",
    "\n",
    "## 1. Preparing dataset (2번부터 실습 진행)"
   ]
  },
  {
   "cell_type": "code",
   "execution_count": 56,
   "metadata": {
    "scrolled": true
   },
   "outputs": [],
   "source": [
    "data_df = pd.read_csv('titanic.csv')"
   ]
  },
  {
   "cell_type": "code",
   "execution_count": 57,
   "metadata": {},
   "outputs": [
    {
     "data": {
      "text/html": [
       "<div>\n",
       "<style scoped>\n",
       "    .dataframe tbody tr th:only-of-type {\n",
       "        vertical-align: middle;\n",
       "    }\n",
       "\n",
       "    .dataframe tbody tr th {\n",
       "        vertical-align: top;\n",
       "    }\n",
       "\n",
       "    .dataframe thead th {\n",
       "        text-align: right;\n",
       "    }\n",
       "</style>\n",
       "<table border=\"1\" class=\"dataframe\">\n",
       "  <thead>\n",
       "    <tr style=\"text-align: right;\">\n",
       "      <th></th>\n",
       "      <th>PassengerId</th>\n",
       "      <th>Survived</th>\n",
       "      <th>Pclass</th>\n",
       "      <th>Name</th>\n",
       "      <th>Sex</th>\n",
       "      <th>Age</th>\n",
       "      <th>SibSp</th>\n",
       "      <th>Parch</th>\n",
       "      <th>Ticket</th>\n",
       "      <th>Fare</th>\n",
       "      <th>Cabin</th>\n",
       "      <th>Embarked</th>\n",
       "    </tr>\n",
       "  </thead>\n",
       "  <tbody>\n",
       "    <tr>\n",
       "      <th>0</th>\n",
       "      <td>1</td>\n",
       "      <td>0</td>\n",
       "      <td>3</td>\n",
       "      <td>Braund, Mr. Owen Harris</td>\n",
       "      <td>male</td>\n",
       "      <td>22.0</td>\n",
       "      <td>1</td>\n",
       "      <td>0</td>\n",
       "      <td>A/5 21171</td>\n",
       "      <td>7.2500</td>\n",
       "      <td>NaN</td>\n",
       "      <td>S</td>\n",
       "    </tr>\n",
       "    <tr>\n",
       "      <th>1</th>\n",
       "      <td>2</td>\n",
       "      <td>1</td>\n",
       "      <td>1</td>\n",
       "      <td>Cumings, Mrs. John Bradley (Florence Briggs Th...</td>\n",
       "      <td>female</td>\n",
       "      <td>38.0</td>\n",
       "      <td>1</td>\n",
       "      <td>0</td>\n",
       "      <td>PC 17599</td>\n",
       "      <td>71.2833</td>\n",
       "      <td>C85</td>\n",
       "      <td>C</td>\n",
       "    </tr>\n",
       "    <tr>\n",
       "      <th>2</th>\n",
       "      <td>3</td>\n",
       "      <td>1</td>\n",
       "      <td>3</td>\n",
       "      <td>Heikkinen, Miss. Laina</td>\n",
       "      <td>female</td>\n",
       "      <td>26.0</td>\n",
       "      <td>0</td>\n",
       "      <td>0</td>\n",
       "      <td>STON/O2. 3101282</td>\n",
       "      <td>7.9250</td>\n",
       "      <td>NaN</td>\n",
       "      <td>S</td>\n",
       "    </tr>\n",
       "    <tr>\n",
       "      <th>3</th>\n",
       "      <td>4</td>\n",
       "      <td>1</td>\n",
       "      <td>1</td>\n",
       "      <td>Futrelle, Mrs. Jacques Heath (Lily May Peel)</td>\n",
       "      <td>female</td>\n",
       "      <td>35.0</td>\n",
       "      <td>1</td>\n",
       "      <td>0</td>\n",
       "      <td>113803</td>\n",
       "      <td>53.1000</td>\n",
       "      <td>C123</td>\n",
       "      <td>S</td>\n",
       "    </tr>\n",
       "    <tr>\n",
       "      <th>4</th>\n",
       "      <td>5</td>\n",
       "      <td>0</td>\n",
       "      <td>3</td>\n",
       "      <td>Allen, Mr. William Henry</td>\n",
       "      <td>male</td>\n",
       "      <td>35.0</td>\n",
       "      <td>0</td>\n",
       "      <td>0</td>\n",
       "      <td>373450</td>\n",
       "      <td>8.0500</td>\n",
       "      <td>NaN</td>\n",
       "      <td>S</td>\n",
       "    </tr>\n",
       "  </tbody>\n",
       "</table>\n",
       "</div>"
      ],
      "text/plain": [
       "   PassengerId  Survived  Pclass  \\\n",
       "0            1         0       3   \n",
       "1            2         1       1   \n",
       "2            3         1       3   \n",
       "3            4         1       1   \n",
       "4            5         0       3   \n",
       "\n",
       "                                                Name     Sex   Age  SibSp  \\\n",
       "0                            Braund, Mr. Owen Harris    male  22.0      1   \n",
       "1  Cumings, Mrs. John Bradley (Florence Briggs Th...  female  38.0      1   \n",
       "2                             Heikkinen, Miss. Laina  female  26.0      0   \n",
       "3       Futrelle, Mrs. Jacques Heath (Lily May Peel)  female  35.0      1   \n",
       "4                           Allen, Mr. William Henry    male  35.0      0   \n",
       "\n",
       "   Parch            Ticket     Fare Cabin Embarked  \n",
       "0      0         A/5 21171   7.2500   NaN        S  \n",
       "1      0          PC 17599  71.2833   C85        C  \n",
       "2      0  STON/O2. 3101282   7.9250   NaN        S  \n",
       "3      0            113803  53.1000  C123        S  \n",
       "4      0            373450   8.0500   NaN        S  "
      ]
     },
     "execution_count": 57,
     "metadata": {},
     "output_type": "execute_result"
    }
   ],
   "source": [
    "data_df.head()"
   ]
  },
  {
   "cell_type": "markdown",
   "metadata": {},
   "source": [
    "## Data info\n",
    "\n",
    "- **PassengerId** : Unique ID of passenger : 승객 고유의 ID값\n",
    "- **Survived** : 0 = No, 1 = Yes \n",
    "- **pclass** : Ticket class (1 = 1st, 2 = 2nd, 3 = 3rd) : 티켓의 class, ~등실 이런것\n",
    "- **sibsp** : # of siblings & spouses aboard the Titanic : 형제자매, 자신을 제외하고 몇명이 같이탔는지\n",
    "- **parch** : # of parents / children aboard the Titanic : 직계존속(부모자식), 자신을 제외하고 몇명이 같이탔는지\n",
    "- **ticket** : Ticket number\n",
    "- **cabin** : Cabin number : 객실 번호\n",
    "- **embarked** : Port of Embarkation (C = Cherbourg, Q = Queenstown, S = Southampton) : 승선지"
   ]
  },
  {
   "cell_type": "markdown",
   "metadata": {},
   "source": [
    "<br>\n",
    "\n",
    "## 2. Feature engineering & Feature selection"
   ]
  },
  {
   "cell_type": "markdown",
   "metadata": {},
   "source": [
    "#### 시도해볼 수 있는 전략들\n",
    "\n",
    "- 불필요한 열이나 예측에 방해가 되는 열은 아예 지우기 (ex. PassengerId)\n",
    "- 결측치 채우기 \n",
    "- Text로 되어있는 Category(Factor)는 숫자로 바꿔주기 (ex. Male/Female -> 0/1)\n",
    "- 실수 범위를 구간 범위로 바꿔주기 \n",
    "- 필요한 경우 기존 열을 바탕으로 새로운 열을 계산해 추가하기"
   ]
  },
  {
   "cell_type": "code",
   "execution_count": 58,
   "metadata": {
    "scrolled": true
   },
   "outputs": [
    {
     "name": "stdout",
     "output_type": "stream",
     "text": [
      "<class 'pandas.core.frame.DataFrame'>\n",
      "RangeIndex: 891 entries, 0 to 890\n",
      "Data columns (total 12 columns):\n",
      "PassengerId    891 non-null int64\n",
      "Survived       891 non-null int64\n",
      "Pclass         891 non-null int64\n",
      "Name           891 non-null object\n",
      "Sex            891 non-null object\n",
      "Age            714 non-null float64\n",
      "SibSp          891 non-null int64\n",
      "Parch          891 non-null int64\n",
      "Ticket         891 non-null object\n",
      "Fare           891 non-null float64\n",
      "Cabin          204 non-null object\n",
      "Embarked       889 non-null object\n",
      "dtypes: float64(2), int64(5), object(5)\n",
      "memory usage: 83.6+ KB\n"
     ]
    }
   ],
   "source": [
    "data_df.info()"
   ]
  },
  {
   "cell_type": "code",
   "execution_count": 59,
   "metadata": {},
   "outputs": [],
   "source": [
    "# msno.matrix(data_df)"
   ]
  },
  {
   "attachments": {
    "image.png": {
     "image/png": "[encoded data removed]"
    }
   },
   "cell_type": "markdown",
   "metadata": {},
   "source": [
    "![image.png](attachment:image.png)"
   ]
  },
  {
   "cell_type": "markdown",
   "metadata": {},
   "source": [
    "- 결측치를 확인해보니 Age 열과 Cabin 열에 주로 존재함을 볼 수 있었습니다."
   ]
  },
  {
   "cell_type": "markdown",
   "metadata": {},
   "source": [
    "#### 데이터 전처리에 따라 결과가 어떻게 달라지는지 보기 위해 총 6가지 방식으로 전처리를 진행하였습니다.\n",
    "\n",
    "- x_data_1 : 결측치를 중윗값으로 채웠고, 연령대를 범주로 바꿔주었습니다.\n",
    "- x_data_2 : 결측치를 드랍하였고, 연령대를 그대로 놔두었습니다.\n",
    "- x_data_3 : 결측치를 중윗값으로 채웠고, 연령대를 그대로 놔두었습니다.\n",
    "- x_data_4 : x_data_1에 Fare 값을 추가로 더 깨냈습니다.\n",
    "- x_data_5 : x_data_1에 Fare, SibSp, Parch열을 추가하였습니다.\n",
    "- x_data_6 : x_data_5 처럼 추가로 열을 꺼냈지만, 연령대를 범주로 바꾸었고, 결측치를 드랍하였습니다."
   ]
  },
  {
   "cell_type": "code",
   "execution_count": 60,
   "metadata": {},
   "outputs": [],
   "source": [
    "# Text로 되어있는 Category는 숫자로 바꿔주기\n",
    "data_df.loc[data_df [\"Sex\"] == \"male\", \"Sex\"] = 0\n",
    "data_df.loc[data_df [\"Sex\"] == \"female\", \"Sex\"] = 1\n",
    "\n",
    "# x데이터 추출\n",
    "x_data_1 = data_df.loc[:, ['Survived', 'Pclass', 'Sex', 'Age']]\n",
    "x_data_2 = data_df.loc[:, ['Survived', 'Pclass', 'Sex', 'Age']].dropna(axis = 0)\n",
    "x_data_3 = data_df.loc[:, ['Survived', 'Pclass', 'Sex', 'Age']]\n",
    "x_data_4 = data_df.loc[:, ['Survived', 'Pclass', 'Sex', 'Age', 'Fare']]\n",
    "x_data_5 = data_df.loc[:, ['Survived', 'Pclass', 'Sex', 'Age','SibSp', 'Parch', 'Fare']]\n",
    "x_data_6 = data_df.loc[:, ['Survived', 'Pclass', 'Sex', 'Age','SibSp', 'Parch', 'Fare']].dropna(axis = 0)\n",
    "\n",
    "# Age NaN 처리: 중위값으로 채움\n",
    "mean_age = x_data_1['Age'].median(skipna=True) # 중위값\n",
    "x_data_1['Age'].fillna(mean_age, inplace = True)\n",
    "x_data_3['Age'].fillna(mean_age, inplace = True)\n",
    "x_data_4['Age'].fillna(mean_age, inplace = True)\n",
    "x_data_5['Age'].fillna(mean_age, inplace = True)\n",
    "\n",
    "# 연령대(Age_group) 범주 생성\n",
    "for i in range(0, 100, 10):\n",
    "    #  0 <= 나이대 < 10\n",
    "    # 10 <= 나이대 < 20\n",
    "    x_data_1.loc[(x_data_1['Age'] >= i) & (x_data_1['Age'] < i + 10), 'Age_group'] = i\n",
    "    x_data_4.loc[(x_data_4['Age'] >= i) & (x_data_4['Age'] < i + 10), 'Age_group'] = i\n",
    "    x_data_5.loc[(x_data_5['Age'] >= i) & (x_data_5['Age'] < i + 10), 'Age_group'] = i\n",
    "    x_data_6.loc[(x_data_6['Age'] >= i) & (x_data_6['Age'] < i + 10), 'Age_group'] = i\n",
    "\n",
    "# y_data\n",
    "y_data_1 = x_data_1[['Survived']]\n",
    "y_data_2 = x_data_2[['Survived']]\n",
    "y_data_3 = x_data_3[['Survived']]\n",
    "y_data_4 = x_data_4[['Survived']]\n",
    "y_data_5 = x_data_5[['Survived']]\n",
    "y_data_6 = x_data_6[['Survived']]\n",
    "\n",
    "# 열 제거\n",
    "x_data_1.drop(['Survived', 'Age'], axis='columns', inplace=True)\n",
    "x_data_2.drop(['Survived'], axis='columns', inplace=True)\n",
    "x_data_3.drop(['Survived'], axis='columns', inplace=True)\n",
    "x_data_4.drop(['Survived', 'Age'], axis='columns', inplace=True)\n",
    "x_data_5.drop(['Survived', 'Age'], axis='columns', inplace=True)\n",
    "x_data_6.drop(['Survived', 'Age'], axis='columns', inplace=True)"
   ]
  },
  {
   "cell_type": "code",
   "execution_count": 61,
   "metadata": {},
   "outputs": [
    {
     "data": {
      "text/html": [
       "<div>\n",
       "<style scoped>\n",
       "    .dataframe tbody tr th:only-of-type {\n",
       "        vertical-align: middle;\n",
       "    }\n",
       "\n",
       "    .dataframe tbody tr th {\n",
       "        vertical-align: top;\n",
       "    }\n",
       "\n",
       "    .dataframe thead th {\n",
       "        text-align: right;\n",
       "    }\n",
       "</style>\n",
       "<table border=\"1\" class=\"dataframe\">\n",
       "  <thead>\n",
       "    <tr style=\"text-align: right;\">\n",
       "      <th></th>\n",
       "      <th>Pclass</th>\n",
       "      <th>Sex</th>\n",
       "      <th>Age_group</th>\n",
       "    </tr>\n",
       "  </thead>\n",
       "  <tbody>\n",
       "    <tr>\n",
       "      <th>0</th>\n",
       "      <td>3</td>\n",
       "      <td>0</td>\n",
       "      <td>20.0</td>\n",
       "    </tr>\n",
       "    <tr>\n",
       "      <th>1</th>\n",
       "      <td>1</td>\n",
       "      <td>1</td>\n",
       "      <td>30.0</td>\n",
       "    </tr>\n",
       "    <tr>\n",
       "      <th>2</th>\n",
       "      <td>3</td>\n",
       "      <td>1</td>\n",
       "      <td>20.0</td>\n",
       "    </tr>\n",
       "    <tr>\n",
       "      <th>3</th>\n",
       "      <td>1</td>\n",
       "      <td>1</td>\n",
       "      <td>30.0</td>\n",
       "    </tr>\n",
       "    <tr>\n",
       "      <th>4</th>\n",
       "      <td>3</td>\n",
       "      <td>0</td>\n",
       "      <td>30.0</td>\n",
       "    </tr>\n",
       "  </tbody>\n",
       "</table>\n",
       "</div>"
      ],
      "text/plain": [
       "   Pclass  Sex  Age_group\n",
       "0       3    0       20.0\n",
       "1       1    1       30.0\n",
       "2       3    1       20.0\n",
       "3       1    1       30.0\n",
       "4       3    0       30.0"
      ]
     },
     "execution_count": 61,
     "metadata": {},
     "output_type": "execute_result"
    }
   ],
   "source": [
    "x_data_1.head()"
   ]
  },
  {
   "cell_type": "code",
   "execution_count": 62,
   "metadata": {},
   "outputs": [
    {
     "data": {
      "text/html": [
       "<div>\n",
       "<style scoped>\n",
       "    .dataframe tbody tr th:only-of-type {\n",
       "        vertical-align: middle;\n",
       "    }\n",
       "\n",
       "    .dataframe tbody tr th {\n",
       "        vertical-align: top;\n",
       "    }\n",
       "\n",
       "    .dataframe thead th {\n",
       "        text-align: right;\n",
       "    }\n",
       "</style>\n",
       "<table border=\"1\" class=\"dataframe\">\n",
       "  <thead>\n",
       "    <tr style=\"text-align: right;\">\n",
       "      <th></th>\n",
       "      <th>Pclass</th>\n",
       "      <th>Sex</th>\n",
       "      <th>Age</th>\n",
       "    </tr>\n",
       "  </thead>\n",
       "  <tbody>\n",
       "    <tr>\n",
       "      <th>0</th>\n",
       "      <td>3</td>\n",
       "      <td>0</td>\n",
       "      <td>22.0</td>\n",
       "    </tr>\n",
       "    <tr>\n",
       "      <th>1</th>\n",
       "      <td>1</td>\n",
       "      <td>1</td>\n",
       "      <td>38.0</td>\n",
       "    </tr>\n",
       "    <tr>\n",
       "      <th>2</th>\n",
       "      <td>3</td>\n",
       "      <td>1</td>\n",
       "      <td>26.0</td>\n",
       "    </tr>\n",
       "    <tr>\n",
       "      <th>3</th>\n",
       "      <td>1</td>\n",
       "      <td>1</td>\n",
       "      <td>35.0</td>\n",
       "    </tr>\n",
       "    <tr>\n",
       "      <th>4</th>\n",
       "      <td>3</td>\n",
       "      <td>0</td>\n",
       "      <td>35.0</td>\n",
       "    </tr>\n",
       "  </tbody>\n",
       "</table>\n",
       "</div>"
      ],
      "text/plain": [
       "   Pclass  Sex   Age\n",
       "0       3    0  22.0\n",
       "1       1    1  38.0\n",
       "2       3    1  26.0\n",
       "3       1    1  35.0\n",
       "4       3    0  35.0"
      ]
     },
     "execution_count": 62,
     "metadata": {},
     "output_type": "execute_result"
    }
   ],
   "source": [
    "x_data_2.head()"
   ]
  },
  {
   "cell_type": "code",
   "execution_count": 63,
   "metadata": {},
   "outputs": [
    {
     "data": {
      "text/html": [
       "<div>\n",
       "<style scoped>\n",
       "    .dataframe tbody tr th:only-of-type {\n",
       "        vertical-align: middle;\n",
       "    }\n",
       "\n",
       "    .dataframe tbody tr th {\n",
       "        vertical-align: top;\n",
       "    }\n",
       "\n",
       "    .dataframe thead th {\n",
       "        text-align: right;\n",
       "    }\n",
       "</style>\n",
       "<table border=\"1\" class=\"dataframe\">\n",
       "  <thead>\n",
       "    <tr style=\"text-align: right;\">\n",
       "      <th></th>\n",
       "      <th>Pclass</th>\n",
       "      <th>Sex</th>\n",
       "      <th>Age</th>\n",
       "    </tr>\n",
       "  </thead>\n",
       "  <tbody>\n",
       "    <tr>\n",
       "      <th>0</th>\n",
       "      <td>3</td>\n",
       "      <td>0</td>\n",
       "      <td>22.0</td>\n",
       "    </tr>\n",
       "    <tr>\n",
       "      <th>1</th>\n",
       "      <td>1</td>\n",
       "      <td>1</td>\n",
       "      <td>38.0</td>\n",
       "    </tr>\n",
       "    <tr>\n",
       "      <th>2</th>\n",
       "      <td>3</td>\n",
       "      <td>1</td>\n",
       "      <td>26.0</td>\n",
       "    </tr>\n",
       "    <tr>\n",
       "      <th>3</th>\n",
       "      <td>1</td>\n",
       "      <td>1</td>\n",
       "      <td>35.0</td>\n",
       "    </tr>\n",
       "    <tr>\n",
       "      <th>4</th>\n",
       "      <td>3</td>\n",
       "      <td>0</td>\n",
       "      <td>35.0</td>\n",
       "    </tr>\n",
       "  </tbody>\n",
       "</table>\n",
       "</div>"
      ],
      "text/plain": [
       "   Pclass  Sex   Age\n",
       "0       3    0  22.0\n",
       "1       1    1  38.0\n",
       "2       3    1  26.0\n",
       "3       1    1  35.0\n",
       "4       3    0  35.0"
      ]
     },
     "execution_count": 63,
     "metadata": {},
     "output_type": "execute_result"
    }
   ],
   "source": [
    "x_data_3.head()"
   ]
  },
  {
   "cell_type": "code",
   "execution_count": 64,
   "metadata": {},
   "outputs": [
    {
     "data": {
      "text/html": [
       "<div>\n",
       "<style scoped>\n",
       "    .dataframe tbody tr th:only-of-type {\n",
       "        vertical-align: middle;\n",
       "    }\n",
       "\n",
       "    .dataframe tbody tr th {\n",
       "        vertical-align: top;\n",
       "    }\n",
       "\n",
       "    .dataframe thead th {\n",
       "        text-align: right;\n",
       "    }\n",
       "</style>\n",
       "<table border=\"1\" class=\"dataframe\">\n",
       "  <thead>\n",
       "    <tr style=\"text-align: right;\">\n",
       "      <th></th>\n",
       "      <th>Pclass</th>\n",
       "      <th>Sex</th>\n",
       "      <th>Fare</th>\n",
       "      <th>Age_group</th>\n",
       "    </tr>\n",
       "  </thead>\n",
       "  <tbody>\n",
       "    <tr>\n",
       "      <th>0</th>\n",
       "      <td>3</td>\n",
       "      <td>0</td>\n",
       "      <td>7.2500</td>\n",
       "      <td>20.0</td>\n",
       "    </tr>\n",
       "    <tr>\n",
       "      <th>1</th>\n",
       "      <td>1</td>\n",
       "      <td>1</td>\n",
       "      <td>71.2833</td>\n",
       "      <td>30.0</td>\n",
       "    </tr>\n",
       "    <tr>\n",
       "      <th>2</th>\n",
       "      <td>3</td>\n",
       "      <td>1</td>\n",
       "      <td>7.9250</td>\n",
       "      <td>20.0</td>\n",
       "    </tr>\n",
       "    <tr>\n",
       "      <th>3</th>\n",
       "      <td>1</td>\n",
       "      <td>1</td>\n",
       "      <td>53.1000</td>\n",
       "      <td>30.0</td>\n",
       "    </tr>\n",
       "    <tr>\n",
       "      <th>4</th>\n",
       "      <td>3</td>\n",
       "      <td>0</td>\n",
       "      <td>8.0500</td>\n",
       "      <td>30.0</td>\n",
       "    </tr>\n",
       "  </tbody>\n",
       "</table>\n",
       "</div>"
      ],
      "text/plain": [
       "   Pclass  Sex     Fare  Age_group\n",
       "0       3    0   7.2500       20.0\n",
       "1       1    1  71.2833       30.0\n",
       "2       3    1   7.9250       20.0\n",
       "3       1    1  53.1000       30.0\n",
       "4       3    0   8.0500       30.0"
      ]
     },
     "execution_count": 64,
     "metadata": {},
     "output_type": "execute_result"
    }
   ],
   "source": [
    "x_data_4.head()"
   ]
  },
  {
   "cell_type": "code",
   "execution_count": 65,
   "metadata": {},
   "outputs": [
    {
     "data": {
      "text/html": [
       "<div>\n",
       "<style scoped>\n",
       "    .dataframe tbody tr th:only-of-type {\n",
       "        vertical-align: middle;\n",
       "    }\n",
       "\n",
       "    .dataframe tbody tr th {\n",
       "        vertical-align: top;\n",
       "    }\n",
       "\n",
       "    .dataframe thead th {\n",
       "        text-align: right;\n",
       "    }\n",
       "</style>\n",
       "<table border=\"1\" class=\"dataframe\">\n",
       "  <thead>\n",
       "    <tr style=\"text-align: right;\">\n",
       "      <th></th>\n",
       "      <th>Pclass</th>\n",
       "      <th>Sex</th>\n",
       "      <th>SibSp</th>\n",
       "      <th>Parch</th>\n",
       "      <th>Fare</th>\n",
       "      <th>Age_group</th>\n",
       "    </tr>\n",
       "  </thead>\n",
       "  <tbody>\n",
       "    <tr>\n",
       "      <th>0</th>\n",
       "      <td>3</td>\n",
       "      <td>0</td>\n",
       "      <td>1</td>\n",
       "      <td>0</td>\n",
       "      <td>7.2500</td>\n",
       "      <td>20.0</td>\n",
       "    </tr>\n",
       "    <tr>\n",
       "      <th>1</th>\n",
       "      <td>1</td>\n",
       "      <td>1</td>\n",
       "      <td>1</td>\n",
       "      <td>0</td>\n",
       "      <td>71.2833</td>\n",
       "      <td>30.0</td>\n",
       "    </tr>\n",
       "    <tr>\n",
       "      <th>2</th>\n",
       "      <td>3</td>\n",
       "      <td>1</td>\n",
       "      <td>0</td>\n",
       "      <td>0</td>\n",
       "      <td>7.9250</td>\n",
       "      <td>20.0</td>\n",
       "    </tr>\n",
       "    <tr>\n",
       "      <th>3</th>\n",
       "      <td>1</td>\n",
       "      <td>1</td>\n",
       "      <td>1</td>\n",
       "      <td>0</td>\n",
       "      <td>53.1000</td>\n",
       "      <td>30.0</td>\n",
       "    </tr>\n",
       "    <tr>\n",
       "      <th>4</th>\n",
       "      <td>3</td>\n",
       "      <td>0</td>\n",
       "      <td>0</td>\n",
       "      <td>0</td>\n",
       "      <td>8.0500</td>\n",
       "      <td>30.0</td>\n",
       "    </tr>\n",
       "  </tbody>\n",
       "</table>\n",
       "</div>"
      ],
      "text/plain": [
       "   Pclass  Sex  SibSp  Parch     Fare  Age_group\n",
       "0       3    0      1      0   7.2500       20.0\n",
       "1       1    1      1      0  71.2833       30.0\n",
       "2       3    1      0      0   7.9250       20.0\n",
       "3       1    1      1      0  53.1000       30.0\n",
       "4       3    0      0      0   8.0500       30.0"
      ]
     },
     "execution_count": 65,
     "metadata": {},
     "output_type": "execute_result"
    }
   ],
   "source": [
    "x_data_5.head()"
   ]
  },
  {
   "cell_type": "code",
   "execution_count": 66,
   "metadata": {},
   "outputs": [
    {
     "data": {
      "text/html": [
       "<div>\n",
       "<style scoped>\n",
       "    .dataframe tbody tr th:only-of-type {\n",
       "        vertical-align: middle;\n",
       "    }\n",
       "\n",
       "    .dataframe tbody tr th {\n",
       "        vertical-align: top;\n",
       "    }\n",
       "\n",
       "    .dataframe thead th {\n",
       "        text-align: right;\n",
       "    }\n",
       "</style>\n",
       "<table border=\"1\" class=\"dataframe\">\n",
       "  <thead>\n",
       "    <tr style=\"text-align: right;\">\n",
       "      <th></th>\n",
       "      <th>Pclass</th>\n",
       "      <th>Sex</th>\n",
       "      <th>SibSp</th>\n",
       "      <th>Parch</th>\n",
       "      <th>Fare</th>\n",
       "      <th>Age_group</th>\n",
       "    </tr>\n",
       "  </thead>\n",
       "  <tbody>\n",
       "    <tr>\n",
       "      <th>0</th>\n",
       "      <td>3</td>\n",
       "      <td>0</td>\n",
       "      <td>1</td>\n",
       "      <td>0</td>\n",
       "      <td>7.2500</td>\n",
       "      <td>20.0</td>\n",
       "    </tr>\n",
       "    <tr>\n",
       "      <th>1</th>\n",
       "      <td>1</td>\n",
       "      <td>1</td>\n",
       "      <td>1</td>\n",
       "      <td>0</td>\n",
       "      <td>71.2833</td>\n",
       "      <td>30.0</td>\n",
       "    </tr>\n",
       "    <tr>\n",
       "      <th>2</th>\n",
       "      <td>3</td>\n",
       "      <td>1</td>\n",
       "      <td>0</td>\n",
       "      <td>0</td>\n",
       "      <td>7.9250</td>\n",
       "      <td>20.0</td>\n",
       "    </tr>\n",
       "    <tr>\n",
       "      <th>3</th>\n",
       "      <td>1</td>\n",
       "      <td>1</td>\n",
       "      <td>1</td>\n",
       "      <td>0</td>\n",
       "      <td>53.1000</td>\n",
       "      <td>30.0</td>\n",
       "    </tr>\n",
       "    <tr>\n",
       "      <th>4</th>\n",
       "      <td>3</td>\n",
       "      <td>0</td>\n",
       "      <td>0</td>\n",
       "      <td>0</td>\n",
       "      <td>8.0500</td>\n",
       "      <td>30.0</td>\n",
       "    </tr>\n",
       "  </tbody>\n",
       "</table>\n",
       "</div>"
      ],
      "text/plain": [
       "   Pclass  Sex  SibSp  Parch     Fare  Age_group\n",
       "0       3    0      1      0   7.2500       20.0\n",
       "1       1    1      1      0  71.2833       30.0\n",
       "2       3    1      0      0   7.9250       20.0\n",
       "3       1    1      1      0  53.1000       30.0\n",
       "4       3    0      0      0   8.0500       30.0"
      ]
     },
     "execution_count": 66,
     "metadata": {},
     "output_type": "execute_result"
    }
   ],
   "source": [
    "x_data_6.head()"
   ]
  },
  {
   "cell_type": "markdown",
   "metadata": {},
   "source": [
    "<br>\n",
    "\n",
    "## 2. Train - Test split (비율을 7:3 으로 유지해주시고, seed는 0을 적용해주세요)"
   ]
  },
  {
   "cell_type": "code",
   "execution_count": 67,
   "metadata": {},
   "outputs": [],
   "source": [
    "from sklearn import model_selection, linear_model\n",
    "from sklearn.metrics import mean_squared_error"
   ]
  },
  {
   "cell_type": "code",
   "execution_count": 68,
   "metadata": {},
   "outputs": [],
   "source": [
    "# 각각의 x, y데이터를 7:3 비율로 준비\n",
    "\n",
    "x_train_1, x_test_1, y_train_1, y_test_1 = model_selection.train_test_split(x_data_1, y_data_1, test_size=0.3, random_state=0)\n",
    "x_train_2, x_test_2, y_train_2, y_test_2 = model_selection.train_test_split(x_data_2, y_data_2, test_size=0.3, random_state=0)\n",
    "x_train_3, x_test_3, y_train_3, y_test_3 = model_selection.train_test_split(x_data_3, y_data_3, test_size=0.3, random_state=0)\n",
    "x_train_4, x_test_4, y_train_4, y_test_4 = model_selection.train_test_split(x_data_4, y_data_4, test_size=0.3, random_state=0)\n",
    "x_train_5, x_test_5, y_train_5, y_test_5 = model_selection.train_test_split(x_data_5, y_data_5, test_size=0.3, random_state=0)\n",
    "x_train_6, x_test_6, y_train_6, y_test_6 = model_selection.train_test_split(x_data_6, y_data_6, test_size=0.3, random_state=0)"
   ]
  },
  {
   "cell_type": "code",
   "execution_count": 69,
   "metadata": {},
   "outputs": [],
   "source": [
    "from sklearn.preprocessing import StandardScaler \n",
    "\n",
    "# 비교를 위해, Fare 데이터가 들어간 Case4에 대해 스케일을 맞춰주었습니다.\n",
    "sc4 = StandardScaler()\n",
    "sc4.fit(x_train_4)\n",
    "x_train_4scaled = sc4.transform(x_train_4)\n",
    "x_test_4scaled = sc4.transform(x_test_4)"
   ]
  },
  {
   "cell_type": "markdown",
   "metadata": {},
   "source": [
    "<br>\n",
    "\n",
    "## 3. Create model instance variable (동시에 여러 모델을 다른 이름으로 만들 수 있습니다.)"
   ]
  },
  {
   "cell_type": "markdown",
   "metadata": {},
   "source": [
    "#### LogisticRegression"
   ]
  },
  {
   "cell_type": "code",
   "execution_count": 70,
   "metadata": {},
   "outputs": [],
   "source": [
    "#  LogisticRegression 모델을 비교를 위해 Case별로 생성\n",
    "\n",
    "model_LR1 = linear_model.LogisticRegression()\n",
    "model_LR2 = linear_model.LogisticRegression()\n",
    "model_LR3 = linear_model.LogisticRegression()\n",
    "model_LR4 = linear_model.LogisticRegression()\n",
    "model_LR5 = linear_model.LogisticRegression()"
   ]
  },
  {
   "cell_type": "markdown",
   "metadata": {},
   "source": [
    "#### Kernelized Support Vector Machine"
   ]
  },
  {
   "cell_type": "code",
   "execution_count": 71,
   "metadata": {},
   "outputs": [],
   "source": [
    "# Kernelized Support Vector Machine 모델을 만들어 준비\n",
    "\n",
    "svc_1 = SVC()\n",
    "svc_2 = SVC()\n",
    "svc_3 = SVC()\n",
    "svc_4 = SVC()\n",
    "svc_5 = SVC()\n",
    "\n",
    "# Case 6 실험을 위해 추가한 모델\n",
    "svc_6 = SVC()"
   ]
  },
  {
   "cell_type": "markdown",
   "metadata": {},
   "source": [
    "#### Gradient Boosting"
   ]
  },
  {
   "cell_type": "code",
   "execution_count": 72,
   "metadata": {},
   "outputs": [],
   "source": [
    "# 각각의 열들의 비중을 보기위해 사용한 것이라, 열의 수가 많은 Case 5, 6을 채택했습니다.\n",
    "\n",
    "from sklearn import ensemble\n",
    "\n",
    "params = {'n_estimators': 500, 'max_depth': 4, 'min_samples_split': 2,\n",
    "          'learning_rate': 0.01, 'loss': 'ls'}\n",
    "\n",
    "model_GB5 = ensemble.GradientBoostingRegressor(**params)\n",
    "model_GB6 = ensemble.GradientBoostingRegressor(**params)"
   ]
  },
  {
   "cell_type": "markdown",
   "metadata": {},
   "source": [
    "####  KNN\n",
    "\n",
    "- 수업때 KNN이 성능이 떨어진다고 들었기에, 직접 확인해보려고 KNN을 사용하였습니다."
   ]
  },
  {
   "cell_type": "code",
   "execution_count": 73,
   "metadata": {},
   "outputs": [],
   "source": [
    "from sklearn import linear_model, neighbors\n",
    "\n",
    "model_KNN1 = neighbors.KNeighborsClassifier(n_neighbors=10)\n",
    "model_KNN2 = neighbors.KNeighborsClassifier(n_neighbors=10)\n",
    "model_KNN3 = neighbors.KNeighborsClassifier(n_neighbors=10)\n",
    "model_KNN4 = neighbors.KNeighborsClassifier(n_neighbors=10)\n",
    "model_KNN5 = neighbors.KNeighborsClassifier(n_neighbors=10)"
   ]
  },
  {
   "cell_type": "markdown",
   "metadata": {},
   "source": [
    "#### XGBoost\n",
    "- 수업시간에 언급만 됐었던 모델이지만, 활용가능할 것 같아 사용해보았습니다."
   ]
  },
  {
   "cell_type": "code",
   "execution_count": 74,
   "metadata": {},
   "outputs": [],
   "source": [
    "import xgboost as xgb\n",
    "\n",
    "model_xgb1 = xgb.XGBClassifier(objective ='reg:linear', colsample_bytree = 0.3, learning_rate = 0.1,\n",
    "                               max_depth = 4, alpha = 1, n_estimators = 10)\n",
    "model_xgb2 = xgb.XGBClassifier(objective ='reg:linear', colsample_bytree = 0.3, learning_rate = 0.1,\n",
    "                               max_depth = 4, alpha = 1, n_estimators = 10)\n",
    "model_xgb3 = xgb.XGBClassifier(objective ='reg:linear', colsample_bytree = 0.3, learning_rate = 0.1,\n",
    "                               max_depth = 4, alpha = 1, n_estimators = 10)\n",
    "model_xgb4 = xgb.XGBClassifier(objective ='reg:linear', colsample_bytree = 0.3, learning_rate = 0.1,\n",
    "                               max_depth = 4, alpha = 1, n_estimators = 10)\n",
    "model_xgb5 = xgb.XGBClassifier(objective ='reg:linear', colsample_bytree = 0.3, learning_rate = 0.1,\n",
    "                               max_depth = 4, alpha = 1, n_estimators = 10)"
   ]
  },
  {
   "cell_type": "markdown",
   "metadata": {},
   "source": [
    "<br>\n",
    "\n",
    "## 4. Train the model\n",
    "\n",
    "- Case 번호에 맞추어 모델들을 학습시켜주었습니다."
   ]
  },
  {
   "cell_type": "markdown",
   "metadata": {},
   "source": [
    "#### LogisticRegression"
   ]
  },
  {
   "cell_type": "code",
   "execution_count": 75,
   "metadata": {},
   "outputs": [
    {
     "data": {
      "text/plain": [
       "LogisticRegression(C=1.0, class_weight=None, dual=False, fit_intercept=True,\n",
       "          intercept_scaling=1, max_iter=100, multi_class='warn',\n",
       "          n_jobs=None, penalty='l2', random_state=None, solver='warn',\n",
       "          tol=0.0001, verbose=0, warm_start=False)"
      ]
     },
     "execution_count": 75,
     "metadata": {},
     "output_type": "execute_result"
    }
   ],
   "source": [
    "model_LR1.fit(x_train_1, y_train_1)\n",
    "model_LR2.fit(x_train_2, y_train_2)\n",
    "model_LR3.fit(x_train_3, y_train_3)\n",
    "model_LR4.fit(x_train_4, y_train_4)\n",
    "model_LR5.fit(x_train_5, y_train_5)"
   ]
  },
  {
   "cell_type": "markdown",
   "metadata": {},
   "source": [
    "#### Kernelized Support Vector Machine"
   ]
  },
  {
   "cell_type": "code",
   "execution_count": 76,
   "metadata": {},
   "outputs": [
    {
     "data": {
      "text/plain": [
       "SVC(C=1.0, cache_size=200, class_weight=None, coef0=0.0,\n",
       "  decision_function_shape='ovr', degree=3, gamma='auto_deprecated',\n",
       "  kernel='rbf', max_iter=-1, probability=False, random_state=None,\n",
       "  shrinking=True, tol=0.001, verbose=False)"
      ]
     },
     "execution_count": 76,
     "metadata": {},
     "output_type": "execute_result"
    }
   ],
   "source": [
    "svc_1.fit(x_train_1, y_train_1)\n",
    "svc_2.fit(x_train_2, y_train_2)\n",
    "svc_3.fit(x_train_3, y_train_3)\n",
    "svc_4.fit(x_train_4, y_train_4)\n",
    "svc_5.fit(x_train_5, y_train_5)\n",
    "svc_6.fit(x_train_6, y_train_6)"
   ]
  },
  {
   "cell_type": "markdown",
   "metadata": {},
   "source": [
    "#### Gradient Boosting"
   ]
  },
  {
   "cell_type": "code",
   "execution_count": 77,
   "metadata": {},
   "outputs": [
    {
     "data": {
      "text/plain": [
       "GradientBoostingRegressor(alpha=0.9, criterion='friedman_mse', init=None,\n",
       "             learning_rate=0.01, loss='ls', max_depth=4, max_features=None,\n",
       "             max_leaf_nodes=None, min_impurity_decrease=0.0,\n",
       "             min_impurity_split=None, min_samples_leaf=1,\n",
       "             min_samples_split=2, min_weight_fraction_leaf=0.0,\n",
       "             n_estimators=500, n_iter_no_change=None, presort='auto',\n",
       "             random_state=None, subsample=1.0, tol=0.0001,\n",
       "             validation_fraction=0.1, verbose=0, warm_start=False)"
      ]
     },
     "execution_count": 77,
     "metadata": {},
     "output_type": "execute_result"
    }
   ],
   "source": [
    "model_GB5.fit(x_train_5, y_train_5)\n",
    "model_GB6.fit(x_train_6, y_train_6)"
   ]
  },
  {
   "cell_type": "markdown",
   "metadata": {},
   "source": [
    "####  KNN"
   ]
  },
  {
   "cell_type": "code",
   "execution_count": 78,
   "metadata": {
    "scrolled": true
   },
   "outputs": [
    {
     "data": {
      "text/plain": [
       "KNeighborsClassifier(algorithm='auto', leaf_size=30, metric='minkowski',\n",
       "           metric_params=None, n_jobs=None, n_neighbors=10, p=2,\n",
       "           weights='uniform')"
      ]
     },
     "execution_count": 78,
     "metadata": {},
     "output_type": "execute_result"
    }
   ],
   "source": [
    "\n",
    "model_KNN1.fit(x_train_1, y_train_1)\n",
    "model_KNN2.fit(x_train_2, y_train_2)\n",
    "model_KNN3.fit(x_train_3, y_train_3)\n",
    "model_KNN4.fit(x_train_4, y_train_4)\n",
    "model_KNN5.fit(x_train_5, y_train_5)\n"
   ]
  },
  {
   "cell_type": "markdown",
   "metadata": {},
   "source": [
    "#### XGBoost"
   ]
  },
  {
   "cell_type": "code",
   "execution_count": 79,
   "metadata": {},
   "outputs": [
    {
     "name": "stdout",
     "output_type": "stream",
     "text": [
      "[15:05:38] WARNING: C:/Users/Administrator/workspace/xgboost-win64_release_1.2.0/src/objective/regression_obj.cu:174: reg:linear is now deprecated in favor of reg:squarederror.\n",
      "[15:05:38] WARNING: C:/Users/Administrator/workspace/xgboost-win64_release_1.2.0/src/objective/regression_obj.cu:174: reg:linear is now deprecated in favor of reg:squarederror.\n",
      "[15:05:38] WARNING: C:/Users/Administrator/workspace/xgboost-win64_release_1.2.0/src/objective/regression_obj.cu:174: reg:linear is now deprecated in favor of reg:squarederror.\n",
      "[15:05:38] WARNING: C:/Users/Administrator/workspace/xgboost-win64_release_1.2.0/src/objective/regression_obj.cu:174: reg:linear is now deprecated in favor of reg:squarederror.\n",
      "[15:05:38] WARNING: C:/Users/Administrator/workspace/xgboost-win64_release_1.2.0/src/objective/regression_obj.cu:174: reg:linear is now deprecated in favor of reg:squarederror.\n",
      "[15:05:38] WARNING: C:/Users/Administrator/workspace/xgboost-win64_release_1.2.0/src/objective/regression_obj.cu:174: reg:linear is now deprecated in favor of reg:squarederror.\n",
      "[15:05:38] WARNING: C:/Users/Administrator/workspace/xgboost-win64_release_1.2.0/src/objective/regression_obj.cu:174: reg:linear is now deprecated in favor of reg:squarederror.\n",
      "[15:05:38] WARNING: C:/Users/Administrator/workspace/xgboost-win64_release_1.2.0/src/objective/regression_obj.cu:174: reg:linear is now deprecated in favor of reg:squarederror.\n",
      "[15:05:38] WARNING: C:/Users/Administrator/workspace/xgboost-win64_release_1.2.0/src/objective/regression_obj.cu:174: reg:linear is now deprecated in favor of reg:squarederror.\n",
      "[15:05:38] WARNING: C:/Users/Administrator/workspace/xgboost-win64_release_1.2.0/src/objective/regression_obj.cu:174: reg:linear is now deprecated in favor of reg:squarederror.\n"
     ]
    },
    {
     "data": {
      "text/plain": [
       "XGBClassifier(alpha=1, base_score=0.5, booster='gbtree', colsample_bylevel=1,\n",
       "       colsample_bynode=1, colsample_bytree=0.3, gamma=0, gpu_id=-1,\n",
       "       importance_type='gain', interaction_constraints='',\n",
       "       learning_rate=0.1, max_delta_step=0, max_depth=4,\n",
       "       min_child_weight=1, missing=nan, monotone_constraints='()',\n",
       "       n_estimators=10, n_jobs=0, num_parallel_tree=1,\n",
       "       objective='reg:linear', random_state=0, reg_alpha=1, reg_lambda=1,\n",
       "       scale_pos_weight=1, subsample=1, tree_method='exact',\n",
       "       validate_parameters=1, verbosity=None)"
      ]
     },
     "execution_count": 79,
     "metadata": {},
     "output_type": "execute_result"
    }
   ],
   "source": [
    "model_xgb1.fit(x_train_1, y_train_1)\n",
    "model_xgb2.fit(x_train_2, y_train_2)\n",
    "model_xgb3.fit(x_train_3, y_train_3)\n",
    "model_xgb4.fit(x_train_4, y_train_4)\n",
    "model_xgb5.fit(x_train_5, y_train_5)"
   ]
  },
  {
   "cell_type": "markdown",
   "metadata": {},
   "source": [
    "<br>\n",
    "\n",
    "## 5. Predict on test data & Check the result with metrics (모델 간 비교가 가능합니다.)"
   ]
  },
  {
   "cell_type": "code",
   "execution_count": 80,
   "metadata": {},
   "outputs": [],
   "source": [
    "from sklearn.metrics import accuracy_score, auc, roc_curve\n",
    "\n",
    "# Logistic Regression 모델의 ROC 커브를 그리는 용도의 함수\n",
    "def draw_graph(fpr, tpr, roc_auc):\n",
    "    plt.figure(figsize=(10, 10))\n",
    "\n",
    "    plt.plot(fpr, tpr, color='darkorange', lw=2, label='ROC curve (area = %0.2f)' % roc_auc) # ---> 점들의 데이터를 받아 선으로 연결해준다.\n",
    "    plt.plot([0, 1], [0, 1], color='navy', lw=2, linestyle='--') # 대각선을 그려주는 것\n",
    "\n",
    "    plt.xlim([0.0, 1.0])\n",
    "    plt.ylim([0.0, 1.05])\n",
    "    plt.xlabel('False Positive Rate')\n",
    "    plt.ylabel('True Positive Rate')\n",
    "    plt.legend(loc=\"lower right\")\n",
    "    plt.title(\"ROC curve\")\n",
    "\n",
    "    plt.show()"
   ]
  },
  {
   "cell_type": "markdown",
   "metadata": {},
   "source": [
    "### 5.1 LogisticRegression\n",
    "\n",
    "- x_data_1 : 결측치를 중윗값으로 채웠고, 연령대를 범주로 바꿔주었습니다."
   ]
  },
  {
   "cell_type": "code",
   "execution_count": 81,
   "metadata": {},
   "outputs": [
    {
     "name": "stdout",
     "output_type": "stream",
     "text": [
      "model_LR1 Accuracy: 0.791\n"
     ]
    },
    {
     "data": {
      "image/png": "[encoded data removed]",
      "text/plain": [
       "<Figure size 720x720 with 1 Axes>"
      ]
     },
     "metadata": {
      "needs_background": "light"
     },
     "output_type": "display_data"
    }
   ],
   "source": [
    "list_LR = []\n",
    "\n",
    "pred_test1 = model_LR1.predict_proba(x_test_1)\n",
    "print('model_LR1 Accuracy: %.3f' % accuracy_score(model_LR1.predict(x_test_1), y_test_1))\n",
    "\n",
    "fpr, tpr, _ = roc_curve(y_true=y_test_1, y_score=pred_test1[:,1])\n",
    "roc_auc = auc(fpr, tpr) # AUC 면적의 값 (수치)\n",
    "draw_graph(fpr, tpr, roc_auc)\n",
    "\n",
    "list_LR.append(accuracy_score(model_LR1.predict(x_test_1), y_test_1))"
   ]
  },
  {
   "cell_type": "markdown",
   "metadata": {},
   "source": [
    "### 5.1 LogisticRegression\n",
    "\n",
    "- x_data_2 : 결측치를 드랍해버렸고, 연령대를 범주로 변경하지 않았습니다."
   ]
  },
  {
   "cell_type": "code",
   "execution_count": 82,
   "metadata": {},
   "outputs": [
    {
     "name": "stdout",
     "output_type": "stream",
     "text": [
      "model_LR2 Accuracy: 0.828\n"
     ]
    },
    {
     "data": {
      "image/png": "[encoded data removed]",
      "text/plain": [
       "<Figure size 720x720 with 1 Axes>"
      ]
     },
     "metadata": {
      "needs_background": "light"
     },
     "output_type": "display_data"
    }
   ],
   "source": [
    "pred_test2 = model_LR2.predict_proba(x_test_2)\n",
    "print('model_LR2 Accuracy: %.3f' % accuracy_score(model_LR2.predict(x_test_2), y_test_2))\n",
    "\n",
    "fpr, tpr, _ = roc_curve(y_true=y_test_2, y_score=pred_test2[:,1])\n",
    "roc_auc = auc(fpr, tpr) # AUC 면적의 값 (수치)\n",
    "draw_graph(fpr, tpr, roc_auc)\n",
    "\n",
    "list_LR.append(accuracy_score(model_LR2.predict(x_test_2), y_test_2))"
   ]
  },
  {
   "cell_type": "markdown",
   "metadata": {},
   "source": [
    "### 5.1 LogisticRegression\n",
    "\n",
    "- x_data_3 : 결측치를 중윗값으로 채워주었고, 연령대를 범주형으로 변환하지 않았습니다."
   ]
  },
  {
   "cell_type": "code",
   "execution_count": 83,
   "metadata": {},
   "outputs": [
    {
     "name": "stdout",
     "output_type": "stream",
     "text": [
      "model_LR3 Accuracy: 0.791\n"
     ]
    },
    {
     "data": {
      "image/png": "[encoded data removed]",
      "text/plain": [
       "<Figure size 720x720 with 1 Axes>"
      ]
     },
     "metadata": {
      "needs_background": "light"
     },
     "output_type": "display_data"
    }
   ],
   "source": [
    "pred_test3 = model_LR3.predict_proba(x_test_3)\n",
    "print('model_LR3 Accuracy: %.3f' % accuracy_score(model_LR3.predict(x_test_3), y_test_3))\n",
    "\n",
    "fpr, tpr, _ = roc_curve(y_true=y_test_3, y_score=pred_test3[:,1])\n",
    "roc_auc = auc(fpr, tpr) # AUC 면적의 값 (수치)\n",
    "draw_graph(fpr, tpr, roc_auc)\n",
    "\n",
    "list_LR.append(accuracy_score(model_LR3.predict(x_test_3), y_test_3))"
   ]
  },
  {
   "cell_type": "markdown",
   "metadata": {},
   "source": [
    "### 5.1 LogisticRegression\n",
    "\n",
    "-  x_data_4 : x_data_1에 Fare 값을 추가하였습니다."
   ]
  },
  {
   "cell_type": "code",
   "execution_count": 84,
   "metadata": {},
   "outputs": [
    {
     "name": "stdout",
     "output_type": "stream",
     "text": [
      "model_LR4 Accuracy: 0.791\n"
     ]
    },
    {
     "data": {
      "image/png": "[encoded data removed]",
      "text/plain": [
       "<Figure size 720x720 with 1 Axes>"
      ]
     },
     "metadata": {
      "needs_background": "light"
     },
     "output_type": "display_data"
    }
   ],
   "source": [
    "pred_test4 = model_LR4.predict_proba(x_test_4)\n",
    "print('model_LR4 Accuracy: %.3f' % accuracy_score(model_LR4.predict(x_test_4), y_test_4))\n",
    "\n",
    "fpr, tpr, _ = roc_curve(y_true=y_test_4, y_score=pred_test4[:,1])\n",
    "roc_auc = auc(fpr, tpr) # AUC 면적의 값 (수치)\n",
    "draw_graph(fpr, tpr, roc_auc)\n",
    "\n",
    "list_LR.append(accuracy_score(model_LR4.predict(x_test_4), y_test_4))"
   ]
  },
  {
   "cell_type": "markdown",
   "metadata": {},
   "source": [
    "##### 5.1 LogisticRegression\n",
    "\n",
    "-  x_data_5 : x_data_1에 Fare, SibSp, Parch열을 추가하여 최대한 많은 열을 살려보았습니다. "
   ]
  },
  {
   "cell_type": "code",
   "execution_count": 112,
   "metadata": {},
   "outputs": [
    {
     "name": "stdout",
     "output_type": "stream",
     "text": [
      "model_LR5 Accuracy: 0.791\n"
     ]
    },
    {
     "data": {
      "image/png": "[encoded data removed]",
      "text/plain": [
       "<Figure size 720x720 with 1 Axes>"
      ]
     },
     "metadata": {
      "needs_background": "light"
     },
     "output_type": "display_data"
    }
   ],
   "source": [
    "pred_test5 = model_LR5.predict_proba(x_test_5)\n",
    "print('model_LR5 Accuracy: %.3f' % accuracy_score(model_LR5.predict(x_test_5), y_test_5))\n",
    "\n",
    "fpr, tpr, _ = roc_curve(y_true=y_test_5, y_score=pred_test5[:,1])\n",
    "roc_auc = auc(fpr, tpr) # AUC 면적의 값 (수치)\n",
    "draw_graph(fpr, tpr, roc_auc)\n",
    "\n",
    "list_LR.append(accuracy_score(model_LR5.predict(x_test_5), y_test_5))"
   ]
  },
  {
   "cell_type": "markdown",
   "metadata": {},
   "source": [
    "### 5.1 LogisticRegression\n",
    "\n",
    "- 그래프를 하나로 합쳐 비교해보았습니다.\n"
   ]
  },
  {
   "cell_type": "code",
   "execution_count": 86,
   "metadata": {
    "scrolled": false
   },
   "outputs": [
    {
     "data": {
      "image/png": "[encoded data removed]",
      "text/plain": [
       "<Figure size 720x720 with 1 Axes>"
      ]
     },
     "metadata": {
      "needs_background": "light"
     },
     "output_type": "display_data"
    }
   ],
   "source": [
    "# Case 1\n",
    "fpr1, tpr1, _ = roc_curve(y_true=y_test_1, y_score=pred_test1[:,1])\n",
    "roc_auc1 = auc(fpr1, tpr1) # AUC 면적의 값 (수치)\n",
    "\n",
    "# Case 2\n",
    "fpr2, tpr2, _ = roc_curve(y_true=y_test_2, y_score=pred_test2[:,1])\n",
    "roc_auc2 = auc(fpr2, tpr2) # AUC 면적의 값 (수치)\n",
    "\n",
    "# Case 3\n",
    "fpr3, tpr3, _ = roc_curve(y_true=y_test_3, y_score=pred_test3[:,1])\n",
    "roc_auc3 = auc(fpr3, tpr3) # AUC 면적의 값 (수치)\n",
    "\n",
    "# Case 4\n",
    "fpr4, tpr4, _ = roc_curve(y_true=y_test_4, y_score=pred_test4[:,1])\n",
    "roc_auc4 = auc(fpr4, tpr4) # AUC 면적의 값 (수치)\n",
    "\n",
    "# Case 5\n",
    "fpr5, tpr5, _ = roc_curve(y_true=y_test_5, y_score=pred_test5[:,1])\n",
    "roc_auc5 = auc(fpr5, tpr5) # AUC 면적의 값 (수치)\n",
    "\n",
    "plt.figure(figsize=(10, 10))\n",
    "\n",
    "plt.plot(fpr1, tpr1, color='darkorange', lw=2, label='ROC curve1 (area = %0.2f)' % roc_auc1) # ---> 점들의 데이터를 받아 선으로 연결해준다.\n",
    "plt.plot(fpr2, tpr2, color='red', lw=2, label='ROC curve2 (area = %0.2f)' % roc_auc2)\n",
    "plt.plot(fpr3, tpr3, color='yellow', lw=2, label='ROC curve3 (area = %0.2f)' % roc_auc3)\n",
    "plt.plot(fpr4, tpr4, color='green', lw=2, label='ROC curve4 (area = %0.2f)' % roc_auc4)\n",
    "plt.plot(fpr5, tpr5, color='blue', lw=2, label='ROC curve5 (area = %0.2f)' % roc_auc5)\n",
    "\n",
    "plt.plot([0, 1], [0, 1], color='navy', lw=2, linestyle='--') # 대각선을 그려주는 것\n",
    "\n",
    "plt.xlim([0.0, 1.0])\n",
    "plt.ylim([0.0, 1.05])\n",
    "plt.xlabel('False Positive Rate')\n",
    "plt.ylabel('True Positive Rate')\n",
    "plt.legend(loc=\"lower right\")\n",
    "plt.title(\"ROC curve\")\n",
    "\n",
    "plt.show()\n",
    "    "
   ]
  },
  {
   "cell_type": "markdown",
   "metadata": {},
   "source": [
    "\n",
    "- LogisticRegression 에서는 결측치를 drop한 x_data_2가 몇 0.86으로 가장 높게 나왔습니다.\n",
    "- 그러나, 매우 큰 격차를 보이지도 않았으며,\n",
    "- 생각만큼 점수가 나와주지 않아 다른 모델을 선정해보기로 하였습니다.\n"
   ]
  },
  {
   "cell_type": "markdown",
   "metadata": {},
   "source": [
    "### 5.2 Kernelized Support Vector Machine\n",
    "\n",
    "- x_data, y_data에 대하여 Kernelized Support Vector Machine을 적용해봤습니다."
   ]
  },
  {
   "cell_type": "code",
   "execution_count": 87,
   "metadata": {},
   "outputs": [
    {
     "name": "stdout",
     "output_type": "stream",
     "text": [
      "Case 1\n",
      "Accuracy on Training set: 0.815\n",
      "Accuracy on Test set: 0.799\n",
      "\n",
      "\n",
      "Case 2\n",
      "Accuracy on Training set: 0.852\n",
      "Accuracy on Test set: 0.781\n",
      "\n",
      "\n",
      "Case 3\n",
      "Accuracy on Training set: 0.854\n",
      "Accuracy on Test set: 0.791\n",
      "\n",
      "\n",
      "Case 4\n",
      "Accuracy on Training set: 0.867\n",
      "Accuracy on Test set: 0.728\n",
      "\n",
      "\n",
      "Case 5\n",
      "Accuracy on Training set: 0.870\n",
      "Accuracy on Test set: 0.720\n",
      "\n",
      "\n"
     ]
    }
   ],
   "source": [
    "list_SVC = []\n",
    "\n",
    "print(\"Case 1\")\n",
    "print(\"Accuracy on Training set: {:.3f}\".format(svc_1.score(x_train_1, y_train_1)))\n",
    "print(\"Accuracy on Test set: {:.3f}\".format(svc_1.score(x_test_1, y_test_1)))\n",
    "print(\"\\n\")\n",
    "list_SVC.append(svc_1.score(x_test_1, y_test_1))\n",
    "\n",
    "print(\"Case 2\")\n",
    "print(\"Accuracy on Training set: {:.3f}\".format(svc_2.score(x_train_2, y_train_2)))\n",
    "print(\"Accuracy on Test set: {:.3f}\".format(svc_2.score(x_test_2, y_test_2)))\n",
    "print(\"\\n\")\n",
    "list_SVC.append(svc_2.score(x_test_2, y_test_2))\n",
    "\n",
    "print(\"Case 3\")\n",
    "print(\"Accuracy on Training set: {:.3f}\".format(svc_3.score(x_train_3, y_train_3)))\n",
    "print(\"Accuracy on Test set: {:.3f}\".format(svc_3.score(x_test_3, y_test_3)))\n",
    "print(\"\\n\")\n",
    "list_SVC.append(svc_3.score(x_test_3, y_test_3))\n",
    "\n",
    "print(\"Case 4\")\n",
    "print(\"Accuracy on Training set: {:.3f}\".format(svc_4.score(x_train_4, y_train_4)))\n",
    "print(\"Accuracy on Test set: {:.3f}\".format(svc_4.score(x_test_4, y_test_4)))\n",
    "print(\"\\n\")\n",
    "list_SVC.append(svc_4.score(x_test_4, y_test_4))\n",
    "\n",
    "print(\"Case 5\")\n",
    "print(\"Accuracy on Training set: {:.3f}\".format(svc_5.score(x_train_5, y_train_5)))\n",
    "print(\"Accuracy on Test set: {:.3f}\".format(svc_5.score(x_test_5, y_test_5)))\n",
    "print(\"\\n\")\n",
    "list_SVC.append(svc_5.score(x_test_5, y_test_5))"
   ]
  },
  {
   "cell_type": "markdown",
   "metadata": {},
   "source": [
    "### 5.2 Kernelized Support Vector Machine\n",
    "\n",
    "- Case 4의 경우 Fare 열의 스케일이 다른열에 비해 큰데, 이것이 영향을 주었을 수도 있으니, 스케일을 조정해주고 해보았습니다."
   ]
  },
  {
   "cell_type": "markdown",
   "metadata": {},
   "source": [
    "- 성별 값이 0과 1 둘로 구분하는 방식이여서 그런지 스케일링이 잘못되서 그런지 오히려 Accuracy가 크게 떨어져버렸습니다. \n",
    "- Training data에서는 Case 5 가 가장 잘 분석한 것으로 나오나, test에서는 열의수가 적은 Case 1과 Case 3이 더 성능이 좋게 나왔습니다.\n",
    "- 심지어는 drop으로 결측치를 날려버린 Case 2 보다도 열의 수가 많은 Case 5가 더 낮은 성능으로 나와버렸습니다."
   ]
  },
  {
   "cell_type": "code",
   "execution_count": 88,
   "metadata": {},
   "outputs": [
    {
     "name": "stdout",
     "output_type": "stream",
     "text": [
      "Case 4 scaled\n",
      "Accuracy on Training set: 0.612\n",
      "Accuracy on Test set: 0.627\n",
      "\n",
      "\n"
     ]
    }
   ],
   "source": [
    "print(\"Case 4 scaled\")\n",
    "print(\"Accuracy on Training set: {:.3f}\".format(svc_4.score(x_train_4scaled, y_train_4)))\n",
    "print(\"Accuracy on Test set: {:.3f}\".format(svc_4.score(x_test_4scaled, y_test_4)))\n",
    "print(\"\\n\")"
   ]
  },
  {
   "cell_type": "markdown",
   "metadata": {},
   "source": [
    "### 5.2 Kernelized Support Vector Machine\n",
    "\n",
    "- 그래서 Case 5 처럼 여러 열을 빼내고, 결측치를 drop해보기로 하였습니다."
   ]
  },
  {
   "cell_type": "code",
   "execution_count": 89,
   "metadata": {},
   "outputs": [
    {
     "name": "stdout",
     "output_type": "stream",
     "text": [
      "Case 6\n",
      "Accuracy on Training set: 0.884\n",
      "Accuracy on Test set: 0.688\n",
      "\n",
      "\n"
     ]
    }
   ],
   "source": [
    "print(\"Case 6\")\n",
    "print(\"Accuracy on Training set: {:.3f}\".format(svc_6.score(x_train_6, y_train_6)))\n",
    "print(\"Accuracy on Test set: {:.3f}\".format(svc_6.score(x_test_6, y_test_6)))\n",
    "print(\"\\n\")"
   ]
  },
  {
   "cell_type": "markdown",
   "metadata": {},
   "source": [
    "- 결측치를 drop시켰더니 Training 성능은 올랐으나 Test성능이 현저하게 떨어져버렸습니다."
   ]
  },
  {
   "cell_type": "markdown",
   "metadata": {},
   "source": [
    "### 5.2 Kernelized Support Vector Machine\n",
    "\n",
    "- Hyper-parameter의 문제일 수도 있어 GridSearchCV를 통해 HPO를 진행해 보기로 하였습니다."
   ]
  },
  {
   "cell_type": "code",
   "execution_count": 90,
   "metadata": {},
   "outputs": [
    {
     "name": "stdout",
     "output_type": "stream",
     "text": [
      "Fitting 3 folds for each of 36 candidates, totalling 108 fits\n"
     ]
    },
    {
     "name": "stderr",
     "output_type": "stream",
     "text": [
      "[Parallel(n_jobs=1)]: Using backend SequentialBackend with 1 concurrent workers.\n",
      "[Parallel(n_jobs=1)]: Done 108 out of 108 | elapsed:    2.3s finished\n"
     ]
    },
    {
     "name": "stdout",
     "output_type": "stream",
     "text": [
      "The best parameters are  {'C': 1000, 'gamma': 0.0001, 'kernel': 'rbf'}\n",
      "\n",
      "\n",
      "[[139  29]\n",
      " [ 30  70]]\n",
      "\n",
      "\n",
      "              precision    recall  f1-score   support\n",
      "\n",
      "           0       0.82      0.83      0.82       168\n",
      "           1       0.71      0.70      0.70       100\n",
      "\n",
      "   micro avg       0.78      0.78      0.78       268\n",
      "   macro avg       0.76      0.76      0.76       268\n",
      "weighted avg       0.78      0.78      0.78       268\n",
      "\n",
      "Accuracy on Training set: 0.799\n",
      "Accuracy on Test set: 0.780\n"
     ]
    }
   ],
   "source": [
    "from sklearn.model_selection import GridSearchCV\n",
    "from sklearn.metrics import classification_report \n",
    "from sklearn.metrics import confusion_matrix \n",
    "\n",
    "param_grid = {'C' : [0.01, 0.1, 1, 10, 100, 1000], \n",
    "             'gamma' : [10, 1, 0.1, 0.01, 0.001, 0.0001],\n",
    "             'kernel' : ['rbf']}\n",
    "\n",
    "grid_5 = GridSearchCV(SVC(), param_grid, refit=True, verbose=1)\n",
    "grid_6 = GridSearchCV(SVC(), param_grid, refit=True, verbose=1)\n",
    "\n",
    "grid_5.fit(x_train_5, y_train_5)\n",
    "grid5_predictions = grid_5.predict(x_test_5)\n",
    "\n",
    "print('The best parameters are ', grid_5.best_params_)\n",
    "print('\\n')\n",
    "print(confusion_matrix(y_test_5, grid5_predictions))\n",
    "print('\\n')\n",
    "\n",
    "print(classification_report(y_test_5, grid5_predictions))\n",
    "\n",
    "print(\"Accuracy on Training set: {:.3f}\".format(grid_5.score(x_train_5, y_train_5)))\n",
    "print(\"Accuracy on Test set: {:.3f}\".format(grid_5.score(x_test_5, y_test_5)))\n"
   ]
  },
  {
   "cell_type": "code",
   "execution_count": 91,
   "metadata": {},
   "outputs": [
    {
     "name": "stdout",
     "output_type": "stream",
     "text": [
      "Fitting 3 folds for each of 36 candidates, totalling 108 fits\n"
     ]
    },
    {
     "name": "stderr",
     "output_type": "stream",
     "text": [
      "[Parallel(n_jobs=1)]: Using backend SequentialBackend with 1 concurrent workers.\n",
      "[Parallel(n_jobs=1)]: Done 108 out of 108 | elapsed:    1.2s finished\n"
     ]
    },
    {
     "name": "stdout",
     "output_type": "stream",
     "text": [
      "The best parameters are  {'C': 1000, 'gamma': 0.001, 'kernel': 'rbf'}\n",
      "\n",
      "\n",
      "[[99 26]\n",
      " [23 67]]\n",
      "\n",
      "\n",
      "              precision    recall  f1-score   support\n",
      "\n",
      "           0       0.81      0.79      0.80       125\n",
      "           1       0.72      0.74      0.73        90\n",
      "\n",
      "   micro avg       0.77      0.77      0.77       215\n",
      "   macro avg       0.77      0.77      0.77       215\n",
      "weighted avg       0.77      0.77      0.77       215\n",
      "\n",
      "Accuracy on Training set: 0.874\n",
      "Accuracy on Test set: 0.772\n"
     ]
    }
   ],
   "source": [
    "grid_6.fit(x_train_6, y_train_6)\n",
    "grid6_predictions = grid_6.predict(x_test_6)\n",
    "\n",
    "print('The best parameters are ', grid_6.best_params_)\n",
    "\n",
    "print('\\n')\n",
    "print(confusion_matrix(y_test_6, grid6_predictions))\n",
    "print('\\n')\n",
    "\n",
    "print(classification_report(y_test_6, grid6_predictions))\n",
    "\n",
    "\n",
    "print(\"Accuracy on Training set: {:.3f}\".format(grid_6.score(x_train_6, y_train_6)))\n",
    "print(\"Accuracy on Test set: {:.3f}\".format(grid_6.score(x_test_6, y_test_6)))"
   ]
  },
  {
   "cell_type": "markdown",
   "metadata": {},
   "source": [
    "- HPO를 하고 나니, 결측치를 drop한 Case 6는 test 점수는 높아졌으나 training 점수가 떨어졌고,\n",
    "- Case 5의 경우도 마찬가지의 모습을 보였습니다.\n",
    "\n",
    "- 그러나, 5보다 6에서 Confusion matrix에서 TP 대비 FP가 늘어났고, TN 대비 FN 비율이 늘어난것으로 보아,\n",
    "- 결측치 drop으로 인해 data 수가 적어져서, training과 test에서의 성능이 떨어진것으로 생각됩니다."
   ]
  },
  {
   "cell_type": "code",
   "execution_count": 92,
   "metadata": {},
   "outputs": [
    {
     "name": "stdout",
     "output_type": "stream",
     "text": [
      "Fitting 3 folds for each of 36 candidates, totalling 108 fits\n"
     ]
    },
    {
     "name": "stderr",
     "output_type": "stream",
     "text": [
      "[Parallel(n_jobs=1)]: Using backend SequentialBackend with 1 concurrent workers.\n",
      "[Parallel(n_jobs=1)]: Done 108 out of 108 | elapsed:    1.2s finished\n"
     ]
    },
    {
     "name": "stdout",
     "output_type": "stream",
     "text": [
      "The best parameters are  {'C': 100, 'gamma': 0.01, 'kernel': 'rbf'}\n",
      "              precision    recall  f1-score   support\n",
      "\n",
      "           0       0.80      0.88      0.84       125\n",
      "           1       0.81      0.70      0.75        90\n",
      "\n",
      "   micro avg       0.80      0.80      0.80       215\n",
      "   macro avg       0.81      0.79      0.79       215\n",
      "weighted avg       0.80      0.80      0.80       215\n",
      "\n",
      "Accuracy on Training set: 0.824\n",
      "Accuracy on Test set: 0.805\n"
     ]
    }
   ],
   "source": [
    "grid_2 = GridSearchCV(SVC(), param_grid, refit=True, verbose=1)\n",
    "\n",
    "grid_2.fit(x_train_2, y_train_2)\n",
    "print('The best parameters are ', grid_2.best_params_)\n",
    "\n",
    "grid2_predictions = grid_2.predict(x_test_2)\n",
    "print(classification_report(y_test_2, grid2_predictions))\n",
    "\n",
    "print(\"Accuracy on Training set: {:.3f}\".format(grid_2.score(x_train_2, y_train_2)))\n",
    "print(\"Accuracy on Test set: {:.3f}\".format(grid_2.score(x_test_2, y_test_2)))"
   ]
  },
  {
   "cell_type": "markdown",
   "metadata": {},
   "source": [
    "- Case 2도 HPO를 해주니 test성능이 조금 향상되었습니다."
   ]
  },
  {
   "cell_type": "markdown",
   "metadata": {},
   "source": [
    "### 5.3 Gradient Boosting\n",
    "\n",
    "- 가장 영향을 많이 주는 열을 찾기위해 Gradient Boosting을 사용해보았습니다."
   ]
  },
  {
   "cell_type": "code",
   "execution_count": 93,
   "metadata": {},
   "outputs": [
    {
     "name": "stdout",
     "output_type": "stream",
     "text": [
      "Case 5\n",
      "MSE: 0.1256\n",
      "Accuracy score(train) : 0.631\n",
      "Accuracy score(test) : 0.463\n",
      "\n",
      "\n",
      "case6\n",
      "MSE: 0.1451\n",
      "Accuracy score(train) : 0.686\n",
      "Accuracy score(test) : 0.404\n"
     ]
    }
   ],
   "source": [
    "mse5 = mean_squared_error(y_test_5, model_GB5.predict(x_test_5))\n",
    "\n",
    "print(\"Case 5\\nMSE: %.4f\" % mse5)\n",
    "print(\"Accuracy score(train) : {0:.3f}\".format(model_GB5.score(x_train_5, y_train_5)))\n",
    "print(\"Accuracy score(test) : {0:.3f}\".format(model_GB5.score(x_test_5, y_test_5)))\n",
    "\n",
    "mse6 = mean_squared_error(y_test_6, model_GB6.predict(x_test_6))\n",
    "\n",
    "print(\"\\n\\ncase6\\nMSE: %.4f\" % mse6)\n",
    "print(\"Accuracy score(train) : {0:.3f}\".format(model_GB6.score(x_train_6, y_train_6)))\n",
    "print(\"Accuracy score(test) : {0:.3f}\".format(model_GB6.score(x_test_6, y_test_6)))"
   ]
  },
  {
   "cell_type": "markdown",
   "metadata": {},
   "source": [
    "- 정답 자체가 0 아니면 1이여서 MSE는 작게 나와버립니다.\n",
    "- 그리고 데이터와 모델이 맞지 않아서 인지, 데이터 전처리를 잘못해서인지 score가 많이 낮게 나옵니다."
   ]
  },
  {
   "cell_type": "code",
   "execution_count": 111,
   "metadata": {},
   "outputs": [
    {
     "data": {
      "image/png": "[encoded data removed]",
      "text/plain": [
       "<Figure size 216x216 with 1 Axes>"
      ]
     },
     "metadata": {
      "needs_background": "light"
     },
     "output_type": "display_data"
    }
   ],
   "source": [
    "case5_col = list(x_train_5.columns)\n",
    "\n",
    "feature_importance = model_GB5.feature_importances_ \n",
    "\n",
    "feature_importance = 100.0 * (feature_importance / feature_importance.max())\n",
    "\n",
    "sorted_idx = np.argsort(feature_importance)\n",
    "pos = np.arange(sorted_idx.shape[0]) + .5\n",
    "plt.subplot(1, 2, 2)\n",
    "plt.barh(pos, feature_importance[sorted_idx], align='center')\n",
    "plt.yticks(pos, case5_col)\n",
    "plt.xlabel('Relative Importance')\n",
    "plt.title('Variable Importance')\n",
    "plt.show()\n",
    "\n",
    "# 그림이 이상하게 너무 크면 이 셀을 한번 더 실행해주세요"
   ]
  },
  {
   "cell_type": "markdown",
   "metadata": {},
   "source": [
    "- 스케일링이 되지않아서인지, Fare열이 가장 큰 영향력을 보이고 있습니다."
   ]
  },
  {
   "cell_type": "code",
   "execution_count": 110,
   "metadata": {},
   "outputs": [
    {
     "data": {
      "image/png": "[encoded data removed]",
      "text/plain": [
       "<Figure size 216x216 with 1 Axes>"
      ]
     },
     "metadata": {
      "needs_background": "light"
     },
     "output_type": "display_data"
    }
   ],
   "source": [
    "case6_col = list(x_train_6.columns)\n",
    "\n",
    "feature_importance = model_GB6.feature_importances_ \n",
    "\n",
    "feature_importance = 100.0 * (feature_importance / feature_importance.max())\n",
    "\n",
    "sorted_idx = np.argsort(feature_importance)\n",
    "pos = np.arange(sorted_idx.shape[0]) + .5\n",
    "plt.subplot(1, 2, 2)\n",
    "plt.barh(pos, feature_importance[sorted_idx], align='center')\n",
    "plt.yticks(pos, case6_col)\n",
    "plt.xlabel('Relative Importance')\n",
    "plt.title('Variable Importance')\n",
    "plt.show()\n",
    "\n",
    "# 그림이 이상하게 너무 크면 이 셀을 한번 더 실행해주세요"
   ]
  },
  {
   "cell_type": "markdown",
   "metadata": {},
   "source": [
    "- Gradient Boosting으로 했을때 성능이 더 높았던, Case 6 에서는 Age를 범주로 바꾼 Age_group과 Fare, Parch가 영향이 큰 것으로 나타났습니다."
   ]
  },
  {
   "cell_type": "markdown",
   "metadata": {},
   "source": [
    "### 5.4 KNN\n",
    "\n",
    "- KNN과 다른 모델들간의 비교를 해보았습니다."
   ]
  },
  {
   "cell_type": "code",
   "execution_count": 96,
   "metadata": {},
   "outputs": [
    {
     "name": "stdout",
     "output_type": "stream",
     "text": [
      "model_KNN1 Accuracy: 0.795\n",
      "model_KNN2 Accuracy: 0.753\n",
      "model_KNN3 Accuracy: 0.754\n",
      "model_KNN4 Accuracy: 0.724\n",
      "model_KNN5 Accuracy: 0.731\n"
     ]
    }
   ],
   "source": [
    "list_KNN = []\n",
    "\n",
    "pred_testK1 = model_KNN1.predict_proba(x_test_1)\n",
    "pred_testK2 = model_KNN2.predict_proba(x_test_2)\n",
    "pred_testK3 = model_KNN3.predict_proba(x_test_3)\n",
    "pred_testK4 = model_KNN4.predict_proba(x_test_4)\n",
    "pred_testK5 = model_KNN5.predict_proba(x_test_5)\n",
    "\n",
    "print('model_KNN1 Accuracy: %.3f' % accuracy_score(model_KNN1.predict(x_test_1), y_test_1))\n",
    "list_KNN.append(accuracy_score(model_KNN1.predict(x_test_1), y_test_1))\n",
    "\n",
    "print('model_KNN2 Accuracy: %.3f' % accuracy_score(model_KNN2.predict(x_test_2), y_test_2))\n",
    "list_KNN.append(accuracy_score(model_KNN2.predict(x_test_2), y_test_2))\n",
    "\n",
    "print('model_KNN3 Accuracy: %.3f' % accuracy_score(model_KNN3.predict(x_test_3), y_test_3))\n",
    "list_KNN.append(accuracy_score(model_KNN3.predict(x_test_3), y_test_3))\n",
    "\n",
    "print('model_KNN4 Accuracy: %.3f' % accuracy_score(model_KNN4.predict(x_test_4), y_test_4))\n",
    "list_KNN.append(accuracy_score(model_KNN4.predict(x_test_4), y_test_4))\n",
    "\n",
    "print('model_KNN5 Accuracy: %.3f' % accuracy_score(model_KNN5.predict(x_test_5), y_test_5))\n",
    "list_KNN.append(accuracy_score(model_KNN5.predict(x_test_5), y_test_5))"
   ]
  },
  {
   "cell_type": "code",
   "execution_count": 97,
   "metadata": {},
   "outputs": [
    {
     "data": {
      "text/html": [
       "<div>\n",
       "<style scoped>\n",
       "    .dataframe tbody tr th:only-of-type {\n",
       "        vertical-align: middle;\n",
       "    }\n",
       "\n",
       "    .dataframe tbody tr th {\n",
       "        vertical-align: top;\n",
       "    }\n",
       "\n",
       "    .dataframe thead th {\n",
       "        text-align: right;\n",
       "    }\n",
       "</style>\n",
       "<table border=\"1\" class=\"dataframe\">\n",
       "  <thead>\n",
       "    <tr style=\"text-align: right;\">\n",
       "      <th></th>\n",
       "      <th>Case 1</th>\n",
       "      <th>Case 2</th>\n",
       "      <th>Case 3</th>\n",
       "      <th>Case 4</th>\n",
       "      <th>Case 5</th>\n",
       "    </tr>\n",
       "  </thead>\n",
       "  <tbody>\n",
       "    <tr>\n",
       "      <th>LR</th>\n",
       "      <td>0.791045</td>\n",
       "      <td>0.827907</td>\n",
       "      <td>0.791045</td>\n",
       "      <td>0.791045</td>\n",
       "      <td>0.791045</td>\n",
       "    </tr>\n",
       "    <tr>\n",
       "      <th>SVC</th>\n",
       "      <td>0.798507</td>\n",
       "      <td>0.781395</td>\n",
       "      <td>0.791045</td>\n",
       "      <td>0.727612</td>\n",
       "      <td>0.720149</td>\n",
       "    </tr>\n",
       "    <tr>\n",
       "      <th>KNN</th>\n",
       "      <td>0.794776</td>\n",
       "      <td>0.753488</td>\n",
       "      <td>0.753731</td>\n",
       "      <td>0.723881</td>\n",
       "      <td>0.731343</td>\n",
       "    </tr>\n",
       "  </tbody>\n",
       "</table>\n",
       "</div>"
      ],
      "text/plain": [
       "       Case 1    Case 2    Case 3    Case 4    Case 5\n",
       "LR   0.791045  0.827907  0.791045  0.791045  0.791045\n",
       "SVC  0.798507  0.781395  0.791045  0.727612  0.720149\n",
       "KNN  0.794776  0.753488  0.753731  0.723881  0.731343"
      ]
     },
     "execution_count": 97,
     "metadata": {},
     "output_type": "execute_result"
    }
   ],
   "source": [
    "df_models = pd.DataFrame([list_LR, list_SVC, list_KNN],\n",
    "                        index = ['LR', 'SVC', 'KNN'],\n",
    "                        columns = ['Case 1', 'Case 2', 'Case 3', 'Case 4', 'Case 5'])\n",
    "\n",
    "df_models"
   ]
  },
  {
   "cell_type": "code",
   "execution_count": 109,
   "metadata": {
    "scrolled": true
   },
   "outputs": [
    {
     "data": {
      "text/plain": [
       "<matplotlib.axes._subplots.AxesSubplot at 0x25b80722320>"
      ]
     },
     "execution_count": 109,
     "metadata": {},
     "output_type": "execute_result"
    },
    {
     "data": {
      "image/png": "[encoded data removed]",
      "text/plain": [
       "<Figure size 216x216 with 1 Axes>"
      ]
     },
     "metadata": {
      "needs_background": "light"
     },
     "output_type": "display_data"
    }
   ],
   "source": [
    "df_models_t = df_models.transpose()\n",
    "df_models_t.plot()\n",
    "\n",
    "# 그림이 이상하게 너무 크면 이 셀을 한번 더 실행해주세요"
   ]
  },
  {
   "cell_type": "markdown",
   "metadata": {},
   "source": [
    "- 결과를 보면, LR 모델은 결측치를 drop한 Case 2 에서 성능이 확 올라갔으나 나머지 Case 1, 3, 4, 5에서는 크게 변하지 않는 모습을 보였습니다.\n",
    "\n",
    "- SVC 와 KNN은 오히려 결측치를 drop하자 성능이 떨어졌고, 열을 추가할떄 성능이 떨어진걸로 보아, 열을 추가할때 추가적인 처리를 해줬어야 했을것 같습니다.\n",
    "\n",
    "- 그리고 KNN의 성능이 다른 모델에 비해 부족하다는 것도 직관적으로 볼 수 있었습니다."
   ]
  },
  {
   "cell_type": "markdown",
   "metadata": {},
   "source": [
    "### 5.5 XGboost\n",
    "\n",
    "- 추가로 무엇을 써볼까 고민하다 써보게 되었습니다."
   ]
  },
  {
   "cell_type": "code",
   "execution_count": 99,
   "metadata": {},
   "outputs": [
    {
     "name": "stdout",
     "output_type": "stream",
     "text": [
      "Case 1\n",
      "RMSE_1: 0.448879\n",
      "Accuracy score(train) : 0.787\n",
      "Accuracy score(test) : 0.799\n",
      "\n",
      "Case 2\n",
      "RMSE_2: 0.441983\n",
      "Accuracy score(train) : 0.824\n",
      "Accuracy score(test) : 0.805\n",
      "\n",
      "Case 3\n",
      "RMSE_3: 0.444703\n",
      "Accuracy score(train) : 0.811\n",
      "Accuracy score(test) : 0.802\n",
      "\n",
      "Case 4\n",
      "RMSE_4: 0.511071\n",
      "Accuracy score(train) : 0.708\n",
      "Accuracy score(test) : 0.739\n",
      "\n",
      "Case 5\n",
      "RMSE_5: 0.532524\n",
      "Accuracy score(train) : 0.706\n",
      "Accuracy score(test) : 0.716\n"
     ]
    }
   ],
   "source": [
    "list_XGb = []\n",
    "\n",
    "preds_xgb1 = model_xgb1.predict(x_test_1)\n",
    "preds_xgb2 = model_xgb2.predict(x_test_2)\n",
    "preds_xgb3 = model_xgb3.predict(x_test_3)\n",
    "preds_xgb4 = model_xgb4.predict(x_test_4)\n",
    "preds_xgb5 = model_xgb5.predict(x_test_5)\n",
    "\n",
    "# Case 1\n",
    "rmse = np.sqrt(mean_squared_error(y_test_1, preds_xgb1))\n",
    "print(\"Case 1\\nRMSE_1: %f\" % (rmse))\n",
    "print(\"Accuracy score(train) : {0:.3f}\".format(model_xgb1.score(x_train_1, y_train_1)))\n",
    "print(\"Accuracy score(test) : {0:.3f}\".format(model_xgb1.score(x_test_1, y_test_1)))\n",
    "list_XGb.append(model_xgb1.score(x_test_1, y_test_1))\n",
    "\n",
    "# Case 2\n",
    "rmse = np.sqrt(mean_squared_error(y_test_2, preds_xgb2))\n",
    "print(\"\\nCase 2\\nRMSE_2: %f\" % (rmse))\n",
    "print(\"Accuracy score(train) : {0:.3f}\".format(model_xgb2.score(x_train_2, y_train_2)))\n",
    "print(\"Accuracy score(test) : {0:.3f}\".format(model_xgb2.score(x_test_2, y_test_2)))\n",
    "list_XGb.append(model_xgb2.score(x_test_2, y_test_2))\n",
    "\n",
    "# Case 3\n",
    "rmse = np.sqrt(mean_squared_error(y_test_3, preds_xgb3))\n",
    "print(\"\\nCase 3\\nRMSE_3: %f\" % (rmse))\n",
    "print(\"Accuracy score(train) : {0:.3f}\".format(model_xgb3.score(x_train_3, y_train_3)))\n",
    "print(\"Accuracy score(test) : {0:.3f}\".format(model_xgb3.score(x_test_3, y_test_3)))\n",
    "list_XGb.append(model_xgb3.score(x_test_3, y_test_3))\n",
    "\n",
    "# Case 4\n",
    "rmse = np.sqrt(mean_squared_error(y_test_4, preds_xgb4))\n",
    "print(\"\\nCase 4\\nRMSE_4: %f\" % (rmse))\n",
    "print(\"Accuracy score(train) : {0:.3f}\".format(model_xgb4.score(x_train_4, y_train_4)))\n",
    "print(\"Accuracy score(test) : {0:.3f}\".format(model_xgb4.score(x_test_4, y_test_4)))\n",
    "list_XGb.append(model_xgb4.score(x_test_4, y_test_4))\n",
    "\n",
    "# Case 5\n",
    "rmse = np.sqrt(mean_squared_error(y_test_5, preds_xgb5))\n",
    "print(\"\\nCase 5\\nRMSE_5: %f\" % (rmse))\n",
    "print(\"Accuracy score(train) : {0:.3f}\".format(model_xgb5.score(x_train_5, y_train_5)))\n",
    "print(\"Accuracy score(test) : {0:.3f}\".format(model_xgb5.score(x_test_5, y_test_5)))\n",
    "list_XGb.append(model_xgb5.score(x_test_5, y_test_5))\n"
   ]
  },
  {
   "cell_type": "markdown",
   "metadata": {},
   "source": [
    "- depth를 10 -> 5 -> 4 순서로 줄여보았는데, 4인 지금도 살짝 오버피팅 느낌이 나서 불안 하지만, 생각보다 train과 test의 격차가 나지 않음을 볼 수 있었습니다.\n",
    "\n",
    "- 또한 score를 보았을때, Gradient Boosting 보다 XGboost가 이번 프로젝트에서 더 적합한 모델이라고 판단되었습니다."
   ]
  },
  {
   "cell_type": "code",
   "execution_count": 107,
   "metadata": {
    "scrolled": false
   },
   "outputs": [
    {
     "data": {
      "image/png": "[encoded data removed]",
      "text/plain": [
       "<Figure size 216x216 with 1 Axes>"
      ]
     },
     "metadata": {
      "needs_background": "light"
     },
     "output_type": "display_data"
    }
   ],
   "source": [
    "# Case 1\n",
    "# xgb.plot_importance(model_xgb1)\n",
    "# plt.rcParams['figure.figsize'] = [3, 3]\n",
    "# plt.show()\n",
    "\n",
    "# Case 2\n",
    "# xgb.plot_importance(model_xgb2)\n",
    "# plt.rcParams['figure.figsize'] = [3, 3]\n",
    "# plt.show()\n",
    "\n",
    "# Case 3\n",
    "# xgb.plot_importance(model_xgb3)\n",
    "# plt.rcParams['figure.figsize'] = [3, 3]\n",
    "# plt.show()\n",
    "\n",
    "# Case 4\n",
    "# xgb.plot_importance(model_xgb4)\n",
    "# plt.rcParams['figure.figsize'] = [3, 3]\n",
    "# plt.show()\n",
    "\n",
    "# Case 5\n",
    "xgb.plot_importance(model_xgb5)\n",
    "plt.rcParams['figure.figsize'] = [3, 3]\n",
    "plt.show()"
   ]
  },
  {
   "cell_type": "markdown",
   "metadata": {},
   "source": [
    "- Case 5에서 열의 중요도를 보았을때, Gradient Boosting과 다른걸 중요하게 보고있음을 알 수 있었습니다."
   ]
  },
  {
   "cell_type": "markdown",
   "metadata": {},
   "source": [
    "#### 결정트리\n",
    "\n",
    "<br>\n",
    "\n",
    "- ExecutableNotFound: failed to execute ['dot', '-Tpng'], make sure the Graphviz executables are on your systems' PATH\n",
    "- 상기에러 발생시\n",
    "- https://www2.graphviz.org/Packages/stable/windows/10/msbuild/Release/Win32/graphviz-2.44.1-win32.zip\n",
    "- 위 파일을 다운받아 임의의 위치에 압축을 풀어준뒤\n",
    "- 본 예시의 경우 D:/App/Graphviz 에 압축을 풀었습니다.\n",
    "- import os\n",
    "- os.environ[\"PATH\"] += os.pathsep + 'D:/App/Graphviz/bin'"
   ]
  },
  {
   "cell_type": "code",
   "execution_count": 105,
   "metadata": {},
   "outputs": [
    {
     "data": {
      "image/png": "[encoded data removed]",
      "text/plain": [
       "<Figure size 720x720 with 1 Axes>"
      ]
     },
     "metadata": {
      "needs_background": "light"
     },
     "output_type": "display_data"
    }
   ],
   "source": [
    "import os\n",
    "os.environ[\"PATH\"] += os.pathsep + 'D:/App/Graphviz/bin'\n",
    "\n",
    "xgb.plot_tree(model_xgb1, num_trees=0)\n",
    "plt.rcParams['figure.figsize'] = [10, 10]\n",
    "plt.show()\n",
    "\n",
    "# 그림이 너무 작게 나오면 한번 더 실행해주면 됩니다."
   ]
  },
  {
   "cell_type": "markdown",
   "metadata": {},
   "source": [
    "- xgb 모델이 판단해내는 과정을 볼수도 있었습니다."
   ]
  },
  {
   "cell_type": "code",
   "execution_count": 102,
   "metadata": {},
   "outputs": [
    {
     "data": {
      "text/html": [
       "<div>\n",
       "<style scoped>\n",
       "    .dataframe tbody tr th:only-of-type {\n",
       "        vertical-align: middle;\n",
       "    }\n",
       "\n",
       "    .dataframe tbody tr th {\n",
       "        vertical-align: top;\n",
       "    }\n",
       "\n",
       "    .dataframe thead th {\n",
       "        text-align: right;\n",
       "    }\n",
       "</style>\n",
       "<table border=\"1\" class=\"dataframe\">\n",
       "  <thead>\n",
       "    <tr style=\"text-align: right;\">\n",
       "      <th></th>\n",
       "      <th>Case 1</th>\n",
       "      <th>Case 2</th>\n",
       "      <th>Case 3</th>\n",
       "      <th>Case 4</th>\n",
       "      <th>Case 5</th>\n",
       "    </tr>\n",
       "  </thead>\n",
       "  <tbody>\n",
       "    <tr>\n",
       "      <th>LR</th>\n",
       "      <td>0.791045</td>\n",
       "      <td>0.827907</td>\n",
       "      <td>0.791045</td>\n",
       "      <td>0.791045</td>\n",
       "      <td>0.791045</td>\n",
       "    </tr>\n",
       "    <tr>\n",
       "      <th>SVC</th>\n",
       "      <td>0.798507</td>\n",
       "      <td>0.781395</td>\n",
       "      <td>0.791045</td>\n",
       "      <td>0.727612</td>\n",
       "      <td>0.720149</td>\n",
       "    </tr>\n",
       "    <tr>\n",
       "      <th>KNN</th>\n",
       "      <td>0.794776</td>\n",
       "      <td>0.753488</td>\n",
       "      <td>0.753731</td>\n",
       "      <td>0.723881</td>\n",
       "      <td>0.731343</td>\n",
       "    </tr>\n",
       "    <tr>\n",
       "      <th>XGb</th>\n",
       "      <td>0.798507</td>\n",
       "      <td>0.804651</td>\n",
       "      <td>0.802239</td>\n",
       "      <td>0.738806</td>\n",
       "      <td>0.716418</td>\n",
       "    </tr>\n",
       "  </tbody>\n",
       "</table>\n",
       "</div>"
      ],
      "text/plain": [
       "       Case 1    Case 2    Case 3    Case 4    Case 5\n",
       "LR   0.791045  0.827907  0.791045  0.791045  0.791045\n",
       "SVC  0.798507  0.781395  0.791045  0.727612  0.720149\n",
       "KNN  0.794776  0.753488  0.753731  0.723881  0.731343\n",
       "XGb  0.798507  0.804651  0.802239  0.738806  0.716418"
      ]
     },
     "execution_count": 102,
     "metadata": {},
     "output_type": "execute_result"
    }
   ],
   "source": [
    "df_models2 = pd.DataFrame([list_LR, list_SVC, list_KNN, list_XGb],\n",
    "                        index = ['LR', 'SVC', 'KNN', 'XGb'],\n",
    "                        columns = ['Case 1', 'Case 2', 'Case 3', 'Case 4', 'Case 5'])\n",
    "\n",
    "df_models2"
   ]
  },
  {
   "cell_type": "code",
   "execution_count": 108,
   "metadata": {
    "scrolled": false
   },
   "outputs": [
    {
     "data": {
      "text/plain": [
       "<matplotlib.axes._subplots.AxesSubplot at 0x25b87a25ef0>"
      ]
     },
     "execution_count": 108,
     "metadata": {},
     "output_type": "execute_result"
    },
    {
     "data": {
      "image/png": "[encoded data removed]",
      "text/plain": [
       "<Figure size 216x216 with 1 Axes>"
      ]
     },
     "metadata": {
      "needs_background": "light"
     },
     "output_type": "display_data"
    }
   ],
   "source": [
    "df_models2_t = df_models2.transpose()\n",
    "\n",
    "df_models2_t.plot()\n",
    "\n",
    "# 그림이 이상하게 너무 크면 이 셀을 한번 더 실행해주세요"
   ]
  },
  {
   "cell_type": "markdown",
   "metadata": {},
   "source": [
    "- XGboost 까지 포함하여 그래프를 다시 그려보았습니다.\n",
    "- XGboost는 저희가 전처리한 데이터에 대해, Case 4까지는 SVC나 KNN에 비해 좋은 성능을 보여주었으나, Case 5에서는 조금 못미치게 되었습니다. \n",
    "- XGboost 에서도 열을 추가할때 추가적인 전처리를 해주어야함을 볼 수 있었습니다."
   ]
  },
  {
   "cell_type": "markdown",
   "metadata": {},
   "source": [
    "## 결론\n",
    "\n",
    "- Case 4 와 Case 5 를 준비했을때, Pclass 열 처럼 단계를 나타내기 위해 1,2,3 이 쓰인것 등 과, Age, Fare 열 간의 스케일 차이를 조정해 줄 전처리 과정이 필요했을 것 같고,\n",
    "\n",
    "- 이는 Fare열 역시 범주화를 했으면 더 좋지 않았나, 아니면 Fare 열을 다른 판단 지표로 쓸 수 있지 않았을까도 생각해보게 되었습니다.\n",
    "\n",
    "- 그리고 혹시 잘못 작성된 데이터가 있는지 검증 작업도 해봤어도 괜찮았을거라는 생각이 들기도 하였습니다.\n",
    "\n",
    "- Data를 준비하는데에 있어서 아직 미숙하여, 모델의 성능을 높여주지 못한것이 아쉬웠습니다.\n"
   ]
  },
  {
   "cell_type": "code",
   "execution_count": null,
   "metadata": {},
   "outputs": [],
   "source": []
  }
 ],
 "metadata": {
  "accelerator": "GPU",
  "colab": {
   "name": "Titanic with XGBoost.ipynb",
   "provenance": [],
   "version": "0.3.2"
  },
  "kernelspec": {
   "display_name": "Python 3",
   "language": "python",
   "name": "python3"
  },
  "language_info": {
   "codemirror_mode": {
    "name": "ipython",
    "version": 3
   },
   "file_extension": ".py",
   "mimetype": "text/x-python",
   "name": "python",
   "nbconvert_exporter": "python",
   "pygments_lexer": "ipython3",
   "version": "3.7.3"
  }
 },
 "nbformat": 4,
 "nbformat_minor": 1
}
